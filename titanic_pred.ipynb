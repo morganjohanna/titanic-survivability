{
 "cells": [
  {
   "attachments": {},
   "cell_type": "markdown",
   "metadata": {},
   "source": [
    "# Import and Split"
   ]
  },
  {
   "cell_type": "code",
   "execution_count": 2,
   "metadata": {},
   "outputs": [],
   "source": [
    "import pandas as pd\n",
    "# import matplotlib.pyplot as plt\n",
    "# import seaborn as sns\n",
    "# import scipy.stats as stats\n",
    "# import numpy as np\n",
    "# from IPython.display import IFrame\n",
    "\n",
    "from sklearn.model_selection  import train_test_split\n",
    "from sklearn.compose import ColumnTransformer\n",
    "from sklearn.pipeline import make_pipeline\n",
    "from sklearn.impute import SimpleImputer\n",
    "from sklearn.preprocessing import OneHotEncoder\n",
    "from sklearn.preprocessing import MinMaxScaler\n",
    "from sklearn.preprocessing import KBinsDiscretizer\n",
    "# from sklearn.preprocessing import FunctionTransformer\n",
    "from sklearn.linear_model import LogisticRegression\n",
    "# from sklearn.tree import DecisionTreeClassifier\n",
    "# from sklearn.metrics import confusion_matrix\n",
    "# from sklearn.metrics import accuracy_score\n",
    "from sklearn.ensemble import RandomForestClassifier\n",
    "from sklearn.ensemble import VotingClassifier\n",
    "\n",
    "df = pd.read_csv(\"./data/train.csv\", index_col=0)\n",
    "kaggle_test = pd.read_csv(\"./data/test.csv\", index_col=0)\n",
    "kaggle_test = kaggle_test.reset_index()"
   ]
  },
  {
   "cell_type": "code",
   "execution_count": 3,
   "metadata": {},
   "outputs": [],
   "source": [
    "y = df[\"Survived\"]\n",
    "X = df.drop([\"Survived\", \"Name\", \"Ticket\", \"Cabin\"], axis = 1)\n",
    "\n",
    "X_train, X_test, y_train, y_test = train_test_split(X, y, test_size = 0.2, random_state = 314)"
   ]
  },
  {
   "attachments": {},
   "cell_type": "markdown",
   "metadata": {},
   "source": [
    "# Feature engineering"
   ]
  },
  {
   "cell_type": "code",
   "execution_count": 4,
   "metadata": {},
   "outputs": [],
   "source": [
    "cat_pipe = make_pipeline(SimpleImputer(strategy = \"most_frequent\"), OneHotEncoder(handle_unknown = \"ignore\", sparse=False))\n",
    "age_pipe = make_pipeline(SimpleImputer(strategy = \"median\"), MinMaxScaler())\n",
    "bin_pipe = make_pipeline(SimpleImputer(strategy = \"median\"), KBinsDiscretizer(n_bins = 4, strategy = \"kmeans\"))\n",
    "\n",
    "feature_transform = ColumnTransformer(transformers = [\n",
    "    (\"age\", age_pipe, [\"Age\"]),\n",
    "    (\"cat\", cat_pipe, [\"Pclass\", \"Embarked\", \"Sex\"]),\n",
    "    (\"fare\", bin_pipe, [\"Fare\"]),\n",
    "    (\"do_nothing\", \"passthrough\", [\"SibSp\", \"Parch\"])\n",
    "])"
   ]
  },
  {
   "attachments": {},
   "cell_type": "markdown",
   "metadata": {},
   "source": [
    "# Fit and Test Models"
   ]
  },
  {
   "cell_type": "code",
   "execution_count": 5,
   "metadata": {},
   "outputs": [
    {
     "name": "stdout",
     "output_type": "stream",
     "text": [
      "0.7991573033707865\n",
      "0.8212290502793296\n"
     ]
    },
    {
     "name": "stderr",
     "output_type": "stream",
     "text": [
      "/home/johanna/anaconda3/lib/python3.10/site-packages/sklearn/preprocessing/_encoders.py:828: FutureWarning: `sparse` was renamed to `sparse_output` in version 1.2 and will be removed in 1.4. `sparse_output` is ignored unless you leave `sparse` to its default value.\n",
      "  warnings.warn(\n"
     ]
    }
   ],
   "source": [
    "# Logistic regression model\n",
    "\n",
    "pipeline = make_pipeline(feature_transform, LogisticRegression(max_iter = 400))\n",
    "\n",
    "pipeline.fit(X_train, y_train)\n",
    "\n",
    "print(pipeline.score(X_train, y_train))\n",
    "print(pipeline.score(X_test, y_test))"
   ]
  },
  {
   "cell_type": "code",
   "execution_count": 6,
   "metadata": {},
   "outputs": [
    {
     "name": "stderr",
     "output_type": "stream",
     "text": [
      "/home/johanna/anaconda3/lib/python3.10/site-packages/sklearn/preprocessing/_encoders.py:828: FutureWarning: `sparse` was renamed to `sparse_output` in version 1.2 and will be removed in 1.4. `sparse_output` is ignored unless you leave `sparse` to its default value.\n",
      "  warnings.warn(\n"
     ]
    },
    {
     "name": "stdout",
     "output_type": "stream",
     "text": [
      "0.8370786516853933\n",
      "0.8268156424581006\n"
     ]
    }
   ],
   "source": [
    "# Random forest model\n",
    "\n",
    "forest = make_pipeline(feature_transform, RandomForestClassifier(max_depth = 5, n_estimators = 100))\n",
    "\n",
    "forest.fit(X_train, y_train)\n",
    "\n",
    "print(forest.score(X_train, y_train))\n",
    "print(forest.score(X_test, y_test))"
   ]
  },
  {
   "cell_type": "code",
   "execution_count": 7,
   "metadata": {},
   "outputs": [
    {
     "name": "stderr",
     "output_type": "stream",
     "text": [
      "/home/johanna/anaconda3/lib/python3.10/site-packages/sklearn/preprocessing/_encoders.py:828: FutureWarning: `sparse` was renamed to `sparse_output` in version 1.2 and will be removed in 1.4. `sparse_output` is ignored unless you leave `sparse` to its default value.\n",
      "  warnings.warn(\n"
     ]
    },
    {
     "name": "stdout",
     "output_type": "stream",
     "text": [
      "0.8202247191011236\n",
      "0.8212290502793296\n"
     ]
    }
   ],
   "source": [
    "# Voting Classifier to make an ensemble model\n",
    "\n",
    "models = [\n",
    "          ('logreg', LogisticRegression()),\n",
    "          ('forest', RandomForestClassifier(max_depth = 5, n_estimators=120)),\n",
    "]\n",
    "m = make_pipeline(feature_transform, VotingClassifier(models))\n",
    "\n",
    "m.fit(X_train, y_train)\n",
    "\n",
    "print(m.score(X_train, y_train))\n",
    "print(m.score(X_test, y_test))"
   ]
  },
  {
   "attachments": {},
   "cell_type": "markdown",
   "metadata": {},
   "source": [
    "# Export for Upload"
   ]
  },
  {
   "cell_type": "code",
   "execution_count": 8,
   "metadata": {},
   "outputs": [],
   "source": [
    "kaggle_forest = forest.predict(kaggle_test)\n",
    "kaggle_ensemble = m.predict(kaggle_test)\n",
    "\n",
    "kaggle_forest = pd.DataFrame({\"PassengerId\": kaggle_test[\"PassengerId\"], \"Survived\": kaggle_forest[0:]})\n",
    "kaggle_ensemble = pd.DataFrame({\"PassengerId\": kaggle_test[\"PassengerId\"], \"Survived\": kaggle_ensemble[0:]})\n",
    "\n",
    "kaggle_forest.to_csv(\"./output/kaggle_forest.csv\", index = False)\n",
    "kaggle_ensemble.to_csv(\"./output/kaggle_ensemble.csv\", index = False)"
   ]
  }
 ],
 "metadata": {
  "kernelspec": {
   "display_name": "base",
   "language": "python",
   "name": "python3"
  },
  "language_info": {
   "codemirror_mode": {
    "name": "ipython",
    "version": 3
   },
   "file_extension": ".py",
   "mimetype": "text/x-python",
   "name": "python",
   "nbconvert_exporter": "python",
   "pygments_lexer": "ipython3",
   "version": "3.10.9"
  },
  "orig_nbformat": 4
 },
 "nbformat": 4,
 "nbformat_minor": 2
}
